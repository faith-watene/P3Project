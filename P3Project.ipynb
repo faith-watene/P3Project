{
 "cells": [
  {
   "cell_type": "markdown",
   "id": "dfdd6fb5-e735-468c-a1c7-30ee581f45bd",
   "metadata": {},
   "source": [
    "# Phase 3 Project"
   ]
  },
  {
   "cell_type": "markdown",
   "id": "7e54f49e-18d7-40b2-954f-223aa2239fa9",
   "metadata": {},
   "source": [
    "### Business Understanding"
   ]
  },
  {
   "cell_type": "markdown",
   "id": "825245a0-afee-40f4-b9f6-de8e93937425",
   "metadata": {},
   "source": [
    "For this project, we will be building a classifier to predict whether a customer will (\"soon\") stop doing business with SyriaTel,\n",
    "a telecommunications company. This is a binary classification problem and we will therefore be using our binary features to carry this out.\n",
    "Expectedly, the audience here would be the telecom business itself, interested in reducing how much money is lost because of customers\n",
    "who don't stick around very long. Therefore, we will be looking at any predictable patterns that can help us come to a conclusion."
   ]
  },
  {
   "cell_type": "markdown",
   "id": "55c45ef1-e1c8-451f-9711-c8a270ccc4d7",
   "metadata": {},
   "source": [
    "### Data Understanding"
   ]
  },
  {
   "cell_type": "markdown",
   "id": "3a9142ce-bc85-4e38-896d-83e8b5f67814",
   "metadata": {},
   "source": [
    "The data we will use for this project has no null values and has 21 columns\n",
    "containing the information we will require to carry out our analysis. The columns are listed \n",
    "below where we have loaded our data"
   ]
  },
  {
   "cell_type": "markdown",
   "id": "7472ec42-e24d-4158-9099-f56e9bb8b447",
   "metadata": {},
   "source": [
    "***Import necessary libraries***"
   ]
  },
  {
   "cell_type": "code",
   "execution_count": 90,
   "id": "38ec950c-1184-4a93-a52f-997ad603dbb2",
   "metadata": {},
   "outputs": [],
   "source": [
    "#Import Necessary Libraries\n",
    "import pandas as pd\n",
    "import numpy as np\n",
    "from sklearn.model_selection import train_test_split\n",
    "from sklearn.metrics import accuracy_score, classification_report, confusion_matrix\n",
    "from sklearn.linear_model import LogisticRegression\n",
    "from sklearn.ensemble import RandomForestClassifier\n",
    "from sklearn.svm import SVC\n",
    "from sklearn.neighbors import KNeighborsClassifier\n",
    "from sklearn.preprocessing import LabelEncoder\n",
    "\n",
    "import warnings\n",
    "warnings.filterwarnings('ignore') "
   ]
  },
  {
   "cell_type": "markdown",
   "id": "f87a879f-d407-4550-bf41-70af20057db6",
   "metadata": {},
   "source": [
    "### Data Preparation"
   ]
  },
  {
   "cell_type": "markdown",
   "id": "6ca4fcc9-0fcf-443d-bbfc-8014f15b67da",
   "metadata": {},
   "source": [
    "***Load and examine the data***\n",
    "\n",
    "We will look at the first few rows of the data, data types\n",
    "and summary statistics to understand its structure and content."
   ]
  },
  {
   "cell_type": "code",
   "execution_count": 91,
   "id": "b47f43a7-cde7-4e43-823b-7a306b4e8f1a",
   "metadata": {},
   "outputs": [
    {
     "name": "stdout",
     "output_type": "stream",
     "text": [
      "<class 'pandas.core.frame.DataFrame'>\n",
      "RangeIndex: 3333 entries, 0 to 3332\n",
      "Data columns (total 21 columns):\n",
      " #   Column                  Non-Null Count  Dtype  \n",
      "---  ------                  --------------  -----  \n",
      " 0   state                   3333 non-null   object \n",
      " 1   account length          3333 non-null   int64  \n",
      " 2   area code               3333 non-null   int64  \n",
      " 3   phone number            3333 non-null   object \n",
      " 4   international plan      3333 non-null   object \n",
      " 5   voice mail plan         3333 non-null   object \n",
      " 6   number vmail messages   3333 non-null   int64  \n",
      " 7   total day minutes       3333 non-null   float64\n",
      " 8   total day calls         3333 non-null   int64  \n",
      " 9   total day charge        3333 non-null   float64\n",
      " 10  total eve minutes       3333 non-null   float64\n",
      " 11  total eve calls         3333 non-null   int64  \n",
      " 12  total eve charge        3333 non-null   float64\n",
      " 13  total night minutes     3333 non-null   float64\n",
      " 14  total night calls       3333 non-null   int64  \n",
      " 15  total night charge      3333 non-null   float64\n",
      " 16  total intl minutes      3333 non-null   float64\n",
      " 17  total intl calls        3333 non-null   int64  \n",
      " 18  total intl charge       3333 non-null   float64\n",
      " 19  customer service calls  3333 non-null   int64  \n",
      " 20  churn                   3333 non-null   bool   \n",
      "dtypes: bool(1), float64(8), int64(8), object(4)\n",
      "memory usage: 524.2+ KB\n"
     ]
    },
    {
     "data": {
      "text/html": [
       "<div>\n",
       "<style scoped>\n",
       "    .dataframe tbody tr th:only-of-type {\n",
       "        vertical-align: middle;\n",
       "    }\n",
       "\n",
       "    .dataframe tbody tr th {\n",
       "        vertical-align: top;\n",
       "    }\n",
       "\n",
       "    .dataframe thead th {\n",
       "        text-align: right;\n",
       "    }\n",
       "</style>\n",
       "<table border=\"1\" class=\"dataframe\">\n",
       "  <thead>\n",
       "    <tr style=\"text-align: right;\">\n",
       "      <th></th>\n",
       "      <th>account length</th>\n",
       "      <th>area code</th>\n",
       "      <th>number vmail messages</th>\n",
       "      <th>total day minutes</th>\n",
       "      <th>total day calls</th>\n",
       "      <th>total day charge</th>\n",
       "      <th>total eve minutes</th>\n",
       "      <th>total eve calls</th>\n",
       "      <th>total eve charge</th>\n",
       "      <th>total night minutes</th>\n",
       "      <th>total night calls</th>\n",
       "      <th>total night charge</th>\n",
       "      <th>total intl minutes</th>\n",
       "      <th>total intl calls</th>\n",
       "      <th>total intl charge</th>\n",
       "      <th>customer service calls</th>\n",
       "    </tr>\n",
       "  </thead>\n",
       "  <tbody>\n",
       "    <tr>\n",
       "      <th>count</th>\n",
       "      <td>3333.000000</td>\n",
       "      <td>3333.000000</td>\n",
       "      <td>3333.000000</td>\n",
       "      <td>3333.000000</td>\n",
       "      <td>3333.000000</td>\n",
       "      <td>3333.000000</td>\n",
       "      <td>3333.000000</td>\n",
       "      <td>3333.000000</td>\n",
       "      <td>3333.000000</td>\n",
       "      <td>3333.000000</td>\n",
       "      <td>3333.000000</td>\n",
       "      <td>3333.000000</td>\n",
       "      <td>3333.000000</td>\n",
       "      <td>3333.000000</td>\n",
       "      <td>3333.000000</td>\n",
       "      <td>3333.000000</td>\n",
       "    </tr>\n",
       "    <tr>\n",
       "      <th>mean</th>\n",
       "      <td>101.064806</td>\n",
       "      <td>437.182418</td>\n",
       "      <td>8.099010</td>\n",
       "      <td>179.775098</td>\n",
       "      <td>100.435644</td>\n",
       "      <td>30.562307</td>\n",
       "      <td>200.980348</td>\n",
       "      <td>100.114311</td>\n",
       "      <td>17.083540</td>\n",
       "      <td>200.872037</td>\n",
       "      <td>100.107711</td>\n",
       "      <td>9.039325</td>\n",
       "      <td>10.237294</td>\n",
       "      <td>4.479448</td>\n",
       "      <td>2.764581</td>\n",
       "      <td>1.562856</td>\n",
       "    </tr>\n",
       "    <tr>\n",
       "      <th>std</th>\n",
       "      <td>39.822106</td>\n",
       "      <td>42.371290</td>\n",
       "      <td>13.688365</td>\n",
       "      <td>54.467389</td>\n",
       "      <td>20.069084</td>\n",
       "      <td>9.259435</td>\n",
       "      <td>50.713844</td>\n",
       "      <td>19.922625</td>\n",
       "      <td>4.310668</td>\n",
       "      <td>50.573847</td>\n",
       "      <td>19.568609</td>\n",
       "      <td>2.275873</td>\n",
       "      <td>2.791840</td>\n",
       "      <td>2.461214</td>\n",
       "      <td>0.753773</td>\n",
       "      <td>1.315491</td>\n",
       "    </tr>\n",
       "    <tr>\n",
       "      <th>min</th>\n",
       "      <td>1.000000</td>\n",
       "      <td>408.000000</td>\n",
       "      <td>0.000000</td>\n",
       "      <td>0.000000</td>\n",
       "      <td>0.000000</td>\n",
       "      <td>0.000000</td>\n",
       "      <td>0.000000</td>\n",
       "      <td>0.000000</td>\n",
       "      <td>0.000000</td>\n",
       "      <td>23.200000</td>\n",
       "      <td>33.000000</td>\n",
       "      <td>1.040000</td>\n",
       "      <td>0.000000</td>\n",
       "      <td>0.000000</td>\n",
       "      <td>0.000000</td>\n",
       "      <td>0.000000</td>\n",
       "    </tr>\n",
       "    <tr>\n",
       "      <th>25%</th>\n",
       "      <td>74.000000</td>\n",
       "      <td>408.000000</td>\n",
       "      <td>0.000000</td>\n",
       "      <td>143.700000</td>\n",
       "      <td>87.000000</td>\n",
       "      <td>24.430000</td>\n",
       "      <td>166.600000</td>\n",
       "      <td>87.000000</td>\n",
       "      <td>14.160000</td>\n",
       "      <td>167.000000</td>\n",
       "      <td>87.000000</td>\n",
       "      <td>7.520000</td>\n",
       "      <td>8.500000</td>\n",
       "      <td>3.000000</td>\n",
       "      <td>2.300000</td>\n",
       "      <td>1.000000</td>\n",
       "    </tr>\n",
       "    <tr>\n",
       "      <th>50%</th>\n",
       "      <td>101.000000</td>\n",
       "      <td>415.000000</td>\n",
       "      <td>0.000000</td>\n",
       "      <td>179.400000</td>\n",
       "      <td>101.000000</td>\n",
       "      <td>30.500000</td>\n",
       "      <td>201.400000</td>\n",
       "      <td>100.000000</td>\n",
       "      <td>17.120000</td>\n",
       "      <td>201.200000</td>\n",
       "      <td>100.000000</td>\n",
       "      <td>9.050000</td>\n",
       "      <td>10.300000</td>\n",
       "      <td>4.000000</td>\n",
       "      <td>2.780000</td>\n",
       "      <td>1.000000</td>\n",
       "    </tr>\n",
       "    <tr>\n",
       "      <th>75%</th>\n",
       "      <td>127.000000</td>\n",
       "      <td>510.000000</td>\n",
       "      <td>20.000000</td>\n",
       "      <td>216.400000</td>\n",
       "      <td>114.000000</td>\n",
       "      <td>36.790000</td>\n",
       "      <td>235.300000</td>\n",
       "      <td>114.000000</td>\n",
       "      <td>20.000000</td>\n",
       "      <td>235.300000</td>\n",
       "      <td>113.000000</td>\n",
       "      <td>10.590000</td>\n",
       "      <td>12.100000</td>\n",
       "      <td>6.000000</td>\n",
       "      <td>3.270000</td>\n",
       "      <td>2.000000</td>\n",
       "    </tr>\n",
       "    <tr>\n",
       "      <th>max</th>\n",
       "      <td>243.000000</td>\n",
       "      <td>510.000000</td>\n",
       "      <td>51.000000</td>\n",
       "      <td>350.800000</td>\n",
       "      <td>165.000000</td>\n",
       "      <td>59.640000</td>\n",
       "      <td>363.700000</td>\n",
       "      <td>170.000000</td>\n",
       "      <td>30.910000</td>\n",
       "      <td>395.000000</td>\n",
       "      <td>175.000000</td>\n",
       "      <td>17.770000</td>\n",
       "      <td>20.000000</td>\n",
       "      <td>20.000000</td>\n",
       "      <td>5.400000</td>\n",
       "      <td>9.000000</td>\n",
       "    </tr>\n",
       "  </tbody>\n",
       "</table>\n",
       "</div>"
      ],
      "text/plain": [
       "       account length    area code  number vmail messages  total day minutes  \\\n",
       "count     3333.000000  3333.000000            3333.000000        3333.000000   \n",
       "mean       101.064806   437.182418               8.099010         179.775098   \n",
       "std         39.822106    42.371290              13.688365          54.467389   \n",
       "min          1.000000   408.000000               0.000000           0.000000   \n",
       "25%         74.000000   408.000000               0.000000         143.700000   \n",
       "50%        101.000000   415.000000               0.000000         179.400000   \n",
       "75%        127.000000   510.000000              20.000000         216.400000   \n",
       "max        243.000000   510.000000              51.000000         350.800000   \n",
       "\n",
       "       total day calls  total day charge  total eve minutes  total eve calls  \\\n",
       "count      3333.000000       3333.000000        3333.000000      3333.000000   \n",
       "mean        100.435644         30.562307         200.980348       100.114311   \n",
       "std          20.069084          9.259435          50.713844        19.922625   \n",
       "min           0.000000          0.000000           0.000000         0.000000   \n",
       "25%          87.000000         24.430000         166.600000        87.000000   \n",
       "50%         101.000000         30.500000         201.400000       100.000000   \n",
       "75%         114.000000         36.790000         235.300000       114.000000   \n",
       "max         165.000000         59.640000         363.700000       170.000000   \n",
       "\n",
       "       total eve charge  total night minutes  total night calls  \\\n",
       "count       3333.000000          3333.000000        3333.000000   \n",
       "mean          17.083540           200.872037         100.107711   \n",
       "std            4.310668            50.573847          19.568609   \n",
       "min            0.000000            23.200000          33.000000   \n",
       "25%           14.160000           167.000000          87.000000   \n",
       "50%           17.120000           201.200000         100.000000   \n",
       "75%           20.000000           235.300000         113.000000   \n",
       "max           30.910000           395.000000         175.000000   \n",
       "\n",
       "       total night charge  total intl minutes  total intl calls  \\\n",
       "count         3333.000000         3333.000000       3333.000000   \n",
       "mean             9.039325           10.237294          4.479448   \n",
       "std              2.275873            2.791840          2.461214   \n",
       "min              1.040000            0.000000          0.000000   \n",
       "25%              7.520000            8.500000          3.000000   \n",
       "50%              9.050000           10.300000          4.000000   \n",
       "75%             10.590000           12.100000          6.000000   \n",
       "max             17.770000           20.000000         20.000000   \n",
       "\n",
       "       total intl charge  customer service calls  \n",
       "count        3333.000000             3333.000000  \n",
       "mean            2.764581                1.562856  \n",
       "std             0.753773                1.315491  \n",
       "min             0.000000                0.000000  \n",
       "25%             2.300000                1.000000  \n",
       "50%             2.780000                1.000000  \n",
       "75%             3.270000                2.000000  \n",
       "max             5.400000                9.000000  "
      ]
     },
     "execution_count": 91,
     "metadata": {},
     "output_type": "execute_result"
    }
   ],
   "source": [
    "df = pd.read_csv(\"C:/Users/DELL/OneDrive/Documents/Moringa/Phase3/p3project/archive/bigml_59c28831336c6604c800002a.csv\")\n",
    "df.info()\n",
    "df.describe()"
   ]
  },
  {
   "cell_type": "markdown",
   "id": "4a38e70b-2c3f-4216-b9ae-40f7a9efac7e",
   "metadata": {},
   "source": [
    "**The dataset contains 3333 records with no null values\n",
    "The target variable is churn. It is binary variable, hence we'll be solving a classification problem.**"
   ]
  },
  {
   "cell_type": "markdown",
   "id": "6013e66e-afee-451b-9c8a-bb4c81511ea0",
   "metadata": {},
   "source": [
    "Next we will look at the distribution of subscribers and the number of minutes spent on calls\n",
    "by various states"
   ]
  },
  {
   "cell_type": "code",
   "execution_count": 92,
   "id": "d1eb1962-db78-4071-9218-ad459e5a98d5",
   "metadata": {},
   "outputs": [
    {
     "name": "stdout",
     "output_type": "stream",
     "text": [
      "Distribution of Subscribers based on Churn Attribute:\n",
      "churn\n",
      "False    2850\n",
      "True      483\n",
      "Name: count, dtype: int64\n",
      "\n",
      "Percentage of Loyal Subscribers: 85.5085508550855 %\n"
     ]
    }
   ],
   "source": [
    "#Look at distribution of the subscribers\n",
    "churn_distribution = df['churn'].value_counts()\n",
    "#Check percentage of loyal subscribers\n",
    "loyal_percentage = (churn_distribution[False] / churn_distribution.sum()) * 100\n",
    "\n",
    "print(\"Distribution of Subscribers based on Churn Attribute:\")\n",
    "print(churn_distribution)\n",
    "print(\"\\nPercentage of Loyal Subscribers:\", loyal_percentage, \"%\")"
   ]
  },
  {
   "cell_type": "code",
   "execution_count": 93,
   "id": "bb67964a-0484-4547-af3c-6d9dfe8f88fe",
   "metadata": {},
   "outputs": [
    {
     "name": "stdout",
     "output_type": "stream",
     "text": [
      "State with the most minutes spent on calls: WV (60789.7 minutes)\n",
      "State with the least minutes spent on calls: CA (20091.0 minutes)\n"
     ]
    }
   ],
   "source": [
    "#Check the number of minutes spent on call by states\n",
    "df['total_minutes'] = df['total day minutes'] + df['total eve minutes'] + df['total night minutes'] + df['total intl minutes']\n",
    "\n",
    "minutes_by_state = df.groupby('state')['total_minutes'].sum().sort_values(ascending=False)\n",
    "\n",
    "state_with_most_minutes = minutes_by_state.idxmax()\n",
    "most_minutes_count = minutes_by_state.max()\n",
    "\n",
    "state_with_least_minutes = minutes_by_state.idxmin()\n",
    "least_minutes_count = minutes_by_state.min()\n",
    "\n",
    "print(f\"State with the most minutes spent on calls: {state_with_most_minutes} ({most_minutes_count} minutes)\")\n",
    "print(f\"State with the least minutes spent on calls: {state_with_least_minutes} ({least_minutes_count} minutes)\")"
   ]
  },
  {
   "cell_type": "markdown",
   "id": "ee9568de-8ab1-460a-98a3-7071b9f67b94",
   "metadata": {},
   "source": [
    "We have now established the states with the most and least call time and the service's loyal subscribers"
   ]
  },
  {
   "cell_type": "markdown",
   "id": "c6fb9974-d69f-4241-9553-4af4954dfe5b",
   "metadata": {},
   "source": [
    "Now let's drop the phone numbers column and look at the distribution of churn"
   ]
  },
  {
   "cell_type": "code",
   "execution_count": 94,
   "id": "c57b22e6-2ca1-40fc-954c-f8150204bab5",
   "metadata": {},
   "outputs": [],
   "source": [
    "df = df.drop(columns=['phone number'])"
   ]
  },
  {
   "cell_type": "code",
   "execution_count": 95,
   "id": "d662bc4c-b8a2-4914-92a5-be10596306a7",
   "metadata": {},
   "outputs": [
    {
     "data": {
      "image/png": "[encoded data removed]",
      "text/plain": [
       "<Figure size 800x800 with 1 Axes>"
      ]
     },
     "metadata": {},
     "output_type": "display_data"
    }
   ],
   "source": [
    "fig, ax = plt.subplots(figsize=(8, 8))\n",
    "churn_dist = df['churn'].value_counts(normalize=True) * 100\n",
    "ax = churn_dist.plot(kind='bar')\n",
    "ax.set_xlabel('churn')\n",
    "ax.set_title('churn, %')\n",
    "for p in ax.patches:\n",
    "    width, height = p.get_width(), p.get_height()\n",
    "    ax.annotate('{:.2f}%'.format(height), (p.get_x()+ 0.3 * width, p.get_y()+ 0.45 * height), color = 'white', weight = 'bold', size = 14)"
   ]
  },
  {
   "cell_type": "markdown",
   "id": "fc8ba106-99d7-40e1-b29b-801063644325",
   "metadata": {},
   "source": [
    "This is further expounding on the subscribers where 'false' shows the loyal subscribers and 'true' for those who are the latter"
   ]
  },
  {
   "cell_type": "markdown",
   "id": "9a806c99-d649-4da7-8d37-53ec3c685b6f",
   "metadata": {},
   "source": [
    "'International plan and 'Voicemail' plan are our binary features so we will map yes=1 and no=0"
   ]
  },
  {
   "cell_type": "code",
   "execution_count": 96,
   "id": "94114b68-39e0-45ca-ad74-846593d5f864",
   "metadata": {},
   "outputs": [],
   "source": [
    "df = df[['international plan', 'voice mail plan']].replace(['yes', 'no'], ['1', '0']).astype(int)"
   ]
  },
  {
   "cell_type": "markdown",
   "id": "b5963dc8-cdec-43f7-b719-cf2e902e41d9",
   "metadata": {},
   "source": [
    "### Modelling"
   ]
  },
  {
   "cell_type": "markdown",
   "id": "49ea582d-000d-4470-b477-7663047dbfc0",
   "metadata": {},
   "source": [
    "Next we will split the data into training and testing sets"
   ]
  },
  {
   "cell_type": "code",
   "execution_count": 97,
   "id": "b4c1b04d-a4ba-478c-8ce3-fe2ede4d1d73",
   "metadata": {},
   "outputs": [
    {
     "name": "stdout",
     "output_type": "stream",
     "text": [
      "<class 'pandas.core.frame.DataFrame'>\n",
      "RangeIndex: 3333 entries, 0 to 3332\n",
      "Data columns (total 2 columns):\n",
      " #   Column              Non-Null Count  Dtype\n",
      "---  ------              --------------  -----\n",
      " 0   international plan  3333 non-null   int32\n",
      " 1   voice mail plan     3333 non-null   int32\n",
      "dtypes: int32(2)\n",
      "memory usage: 26.2 KB\n"
     ]
    }
   ],
   "source": [
    "df.info()"
   ]
  },
  {
   "cell_type": "code",
   "execution_count": 98,
   "id": "e80a8d9e-fa47-477c-b98a-68fbf797611c",
   "metadata": {},
   "outputs": [],
   "source": [
    "# Split the data into features (X) and target (y)\n",
    "X = df[['international plan']]\n",
    "y = df['voice mail plan']\n",
    "\n",
    "# Split the data into training and testing sets\n",
    "X_train, X_test, y_train, y_test = train_test_split(X, y, test_size=0.2, random_state=42)\n"
   ]
  },
  {
   "cell_type": "code",
   "execution_count": 99,
   "id": "a28657f3-63ba-4e64-a60a-3092c29b783a",
   "metadata": {},
   "outputs": [
    {
     "name": "stdout",
     "output_type": "stream",
     "text": [
      "Baseline Model - Logistic Regression\n",
      "Accuracy: 0.704647676161919\n",
      "              precision    recall  f1-score   support\n",
      "\n",
      "           0       0.70      1.00      0.83       470\n",
      "           1       0.00      0.00      0.00       197\n",
      "\n",
      "    accuracy                           0.70       667\n",
      "   macro avg       0.35      0.50      0.41       667\n",
      "weighted avg       0.50      0.70      0.58       667\n",
      "\n"
     ]
    }
   ],
   "source": [
    "# Baseline Model - Logistic Regression\n",
    "baseline_model = LogisticRegression()\n",
    "baseline_model.fit(X_train, y_train)\n",
    "y_pred_baseline = baseline_model.predict(X_test)\n",
    "print(\"Baseline Model - Logistic Regression\")\n",
    "print(\"Accuracy:\", accuracy_score(y_test, y_pred_baseline))\n",
    "print(classification_report(y_test, y_pred_baseline))"
   ]
  },
  {
   "cell_type": "markdown",
   "id": "20eefe5d-fc56-439d-8211-7713a406af4a",
   "metadata": {},
   "source": [
    "Next we are going to carry out classification"
   ]
  },
  {
   "cell_type": "code",
   "execution_count": 100,
   "id": "c0c3682b-580a-4d1e-b656-4e593c4a0d7f",
   "metadata": {},
   "outputs": [
    {
     "name": "stdout",
     "output_type": "stream",
     "text": [
      "Classification - Random Forest Classifier\n",
      "Accuracy: 0.704647676161919\n",
      "              precision    recall  f1-score   support\n",
      "\n",
      "           0       0.70      1.00      0.83       470\n",
      "           1       0.00      0.00      0.00       197\n",
      "\n",
      "    accuracy                           0.70       667\n",
      "   macro avg       0.35      0.50      0.41       667\n",
      "weighted avg       0.50      0.70      0.58       667\n",
      "\n"
     ]
    }
   ],
   "source": [
    "# Random Forest Classifier\n",
    "rf_model = RandomForestClassifier(random_state=42)\n",
    "rf_model.fit(X_train, y_train)\n",
    "y_pred_rf = rf_model.predict(X_test)\n",
    "print(\"Classification - Random Forest Classifier\")\n",
    "print(\"Accuracy:\", accuracy_score(y_test, y_pred_rf))\n",
    "print(classification_report(y_test, y_pred_rf))\n"
   ]
  },
  {
   "cell_type": "markdown",
   "id": "9b1eb324-72ed-4137-a299-cd501d1f7cc2",
   "metadata": {},
   "source": [
    "We shall use SVM next to look at our data"
   ]
  },
  {
   "cell_type": "code",
   "execution_count": 101,
   "id": "756ab918-bf14-490c-b1fd-e07d14ac2f21",
   "metadata": {},
   "outputs": [
    {
     "name": "stdout",
     "output_type": "stream",
     "text": [
      "Vector - Support Vector Machine\n",
      "Accuracy: 0.704647676161919\n",
      "              precision    recall  f1-score   support\n",
      "\n",
      "           0       0.70      1.00      0.83       470\n",
      "           1       0.00      0.00      0.00       197\n",
      "\n",
      "    accuracy                           0.70       667\n",
      "   macro avg       0.35      0.50      0.41       667\n",
      "weighted avg       0.50      0.70      0.58       667\n",
      "\n"
     ]
    }
   ],
   "source": [
    "# Support Vector Machine\n",
    "svm_model = SVC()\n",
    "svm_model.fit(X_train, y_train)\n",
    "y_pred_svm = svm_model.predict(X_test)\n",
    "print(\"Vector - Support Vector Machine\")\n",
    "print(\"Accuracy:\", accuracy_score(y_test, y_pred_svm))\n",
    "print(classification_report(y_test, y_pred_svm))"
   ]
  },
  {
   "cell_type": "markdown",
   "id": "ad45764b-b493-470c-a70d-a1174799976a",
   "metadata": {},
   "source": [
    "Finally we will use the Neighbors Classifier"
   ]
  },
  {
   "cell_type": "code",
   "execution_count": 102,
   "id": "3194bfdf-e3c0-43d2-9212-8a822e85df1b",
   "metadata": {},
   "outputs": [
    {
     "name": "stdout",
     "output_type": "stream",
     "text": [
      "Improved Model 3 - K-Nearest Neighbors\n",
      "Accuracy: 0.704647676161919\n",
      "              precision    recall  f1-score   support\n",
      "\n",
      "           0       0.70      1.00      0.83       470\n",
      "           1       0.00      0.00      0.00       197\n",
      "\n",
      "    accuracy                           0.70       667\n",
      "   macro avg       0.35      0.50      0.41       667\n",
      "weighted avg       0.50      0.70      0.58       667\n",
      "\n"
     ]
    }
   ],
   "source": [
    "# Improved Model 3 - K-Nearest Neighbors\n",
    "knn_model = KNeighborsClassifier()\n",
    "knn_model.fit(X_train, y_train)\n",
    "y_pred_knn = knn_model.predict(X_test)\n",
    "print(\"Improved Model 3 - K-Nearest Neighbors\")\n",
    "print(\"Accuracy:\", accuracy_score(y_test, y_pred_knn))\n",
    "print(classification_report(y_test, y_pred_knn))\n"
   ]
  },
  {
   "cell_type": "markdown",
   "id": "2d33ab10-e8bf-4213-a9ea-61702c4f19b9",
   "metadata": {},
   "source": [
    "We have now finished modelling the data and will move on to evaluation"
   ]
  },
  {
   "cell_type": "markdown",
   "id": "6674e3df-10a4-4ae8-9d39-c32f05eb7d10",
   "metadata": {},
   "source": [
    "### Evaluation"
   ]
  },
  {
   "cell_type": "markdown",
   "id": "144e15fd-1f1b-4996-a88f-9e727c0dacc8",
   "metadata": {},
   "source": [
    "We shall carry out evaluation and comparison of the data after modelling it appropriately."
   ]
  },
  {
   "cell_type": "code",
   "execution_count": 103,
   "id": "051110de-77a4-4198-8377-72f51867bbeb",
   "metadata": {},
   "outputs": [
    {
     "name": "stdout",
     "output_type": "stream",
     "text": [
      "Confusion Matrix - Logistic Regression\n",
      "[[470   0]\n",
      " [197   0]]\n",
      "Confusion Matrix - Random Forest Classifier\n",
      "[[470   0]\n",
      " [197   0]]\n",
      "Confusion Matrix - Support Vector Machine\n",
      "[[470   0]\n",
      " [197   0]]\n",
      "Confusion Matrix - K-Nearest Neighbors\n",
      "[[470   0]\n",
      " [197   0]]\n"
     ]
    }
   ],
   "source": [
    "# Evaluation and Comparison\n",
    "print(\"Confusion Matrix - Logistic Regression\")\n",
    "print(confusion_matrix(y_test, y_pred_baseline))\n",
    "print(\"Confusion Matrix - Random Forest Classifier\")\n",
    "print(confusion_matrix(y_test, y_pred_rf))\n",
    "print(\"Confusion Matrix - Support Vector Machine\")\n",
    "print(confusion_matrix(y_test, y_pred_svm))\n",
    "print(\"Confusion Matrix - K-Nearest Neighbors\")\n",
    "print(confusion_matrix(y_test, y_pred_knn))"
   ]
  },
  {
   "cell_type": "markdown",
   "id": "f71bd1f2-1f97-449b-9692-2bc30b42b51f",
   "metadata": {},
   "source": [
    "Below is our confusion matrix in graph form."
   ]
  },
  {
   "cell_type": "code",
   "execution_count": 107,
   "id": "e65019de-14a5-453f-bd27-28cd1474f08c",
   "metadata": {},
   "outputs": [
    {
     "data": {
      "image/png": "[encoded data removed]",
      "text/plain": [
       "<Figure size 1000x800 with 2 Axes>"
      ]
     },
     "metadata": {},
     "output_type": "display_data"
    },
    {
     "data": {
      "image/png": "[encoded data removed]",
      "text/plain": [
       "<Figure size 1000x800 with 2 Axes>"
      ]
     },
     "metadata": {},
     "output_type": "display_data"
    },
    {
     "data": {
      "image/png": "[encoded data removed]",
      "text/plain": [
       "<Figure size 1000x800 with 2 Axes>"
      ]
     },
     "metadata": {},
     "output_type": "display_data"
    },
    {
     "data": {
      "image/png": "[encoded data removed]",
      "text/plain": [
       "<Figure size 1000x800 with 2 Axes>"
      ]
     },
     "metadata": {},
     "output_type": "display_data"
    }
   ],
   "source": [
    "# Import seaborn for visualization\n",
    "import seaborn as sns\n",
    "import matplotlib.pyplot as plt\n",
    "\n",
    "# Function to plot confusion matrix\n",
    "def plot_confusion_matrix(cm, title):\n",
    "    sns.heatmap(cm, annot=True, fmt='d', cmap='Blues')\n",
    "    plt.title(title)\n",
    "    plt.ylabel('Actual')\n",
    "    plt.xlabel('Predicted')\n",
    "    plt.show()\n",
    "\n",
    "# Plotting confusion matrices\n",
    "plot_confusion_matrix(cm_baseline, 'Logistic Regression')\n",
    "plot_confusion_matrix(cm_rf, 'Random Forest Classifier')\n",
    "plot_confusion_matrix(cm_svm, 'Support Vector Machine')\n",
    "plot_confusion_matrix(cm_knn, 'K-Nearest Neighbors')\n"
   ]
  },
  {
   "cell_type": "markdown",
   "id": "aba68e82-55c9-44ae-a926-5d85b39d5367",
   "metadata": {},
   "source": [
    "### Conclusion"
   ]
  },
  {
   "cell_type": "markdown",
   "id": "72820f73-0fdf-48e1-b090-d1f9401c54db",
   "metadata": {},
   "source": [
    "From our analysis above we can conclude that;\n",
    "\n",
    "-Customers who have subscribed to the international plan may have different usage patterns compared to those who have not. It is observed that the presence of an international plan can be an indicator of customer churn.\n",
    "\n",
    "-Customers with a voice mail plan might be using fewer voice services or might not be fully utilizing the features of their subscription.\n",
    "\n",
    "-The models developed, including Logistic Regression, Random Forest Classifier, Support Vector Machine, and K-Nearest Neighbors, have provided varying levels of accuracy and insights into customer churn. The confusion matrices generated for each model show how well the models can distinguish between customers likely to churn and those likely to stay."
   ]
  },
  {
   "cell_type": "markdown",
   "id": "b2ddfa83-b349-4cca-8ef3-f987ce0025e7",
   "metadata": {},
   "source": [
    "### Recommendations"
   ]
  },
  {
   "cell_type": "markdown",
   "id": "011473d6-e3f3-4d27-8635-1b74fd578b53",
   "metadata": {},
   "source": [
    "The following is what I would recommend for our service to maintain it's client base;\n",
    "\n",
    "-For International Plan Subscribers, develop specialized offers or discounts for customers who use the international plan and for\n",
    "Voice Mail Plan Subscribers, analyze the usage patterns of customers with voice mail plans to understand if they are fully utilizing the service. \n",
    "\n",
    "- Regularly collect feedback from customers, especially those who have opted out of the international or voice mail plans, to understand their reasons.\n",
    "\n",
    "- Develop personalized communication strategies based on customer data insights.\n",
    "\n",
    "-  Implement educational campaigns to help customers understand the full benefits of their plans and how they can maximize usage. "
   ]
  },
  {
   "cell_type": "code",
   "execution_count": null,
   "id": "cedaba04-e735-4d18-8a19-bfed42acf79f",
   "metadata": {},
   "outputs": [],
   "source": []
  }
 ],
 "metadata": {
  "kernelspec": {
   "display_name": "Python (learn-env)",
   "language": "python",
   "name": "learn-env"
  },
  "language_info": {
   "codemirror_mode": {
    "name": "ipython",
    "version": 3
   },
   "file_extension": ".py",
   "mimetype": "text/x-python",
   "name": "python",
   "nbconvert_exporter": "python",
   "pygments_lexer": "ipython3",
   "version": "3.10.14"
  }
 },
 "nbformat": 4,
 "nbformat_minor": 5
}
